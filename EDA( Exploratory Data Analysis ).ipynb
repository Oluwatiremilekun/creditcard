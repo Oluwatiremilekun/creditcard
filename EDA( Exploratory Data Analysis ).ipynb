{
 "cells": [
  {
   "cell_type": "markdown",
   "id": "a7ffe6ce",
   "metadata": {},
   "source": [
    "# Step-by-Step Exploratory Data Analysis (EDA) using Python"
   ]
  },
  {
   "cell_type": "markdown",
   "id": "1b86f750",
   "metadata": {},
   "source": [
    "Olaniyan Remilekun Desmond — Updated On January 10th, 2024"
   ]
  },
  {
   "cell_type": "markdown",
   "id": "80a6103d",
   "metadata": {},
   "source": [
    "# Introduction to EDA"
   ]
  },
  {
   "cell_type": "markdown",
   "id": "8d8ddff2",
   "metadata": {},
   "source": [
    "The main objective of this article is to cover the steps involved in Data pre-processing, Feature Engineering, and different stages of Exploratory Data Analysis, which is an essential step in any research analysis. Data pre-processing, Feature Engineering, and EDA are fundamental early steps after data collection. Still, they are not limited to where the data is simply visualized, plotted, and manipulated, without any assumptions, to assess the quality of the data and building models. This article will guide you through data pre-processing, feature engineering, and EDA using Python."
   ]
  },
  {
   "cell_type": "markdown",
   "id": "8d283915",
   "metadata": {},
   "source": [
    "# Table of contents"
   ]
  },
  {
   "cell_type": "markdown",
   "id": "19fbcefb",
   "metadata": {},
   "source": [
    "\n",
    "What is Data Pre-processing and Feature Engineering?\n",
    "\n",
    "Step 1: Import Python Libraries\n",
    "\n",
    "Step 2: Reading Dataset\n",
    "\n",
    "Step 3: Data Reduction\n",
    "\n",
    "Step 4: Feature Engineering\n",
    "\n",
    "Step 5: Creating Features\n",
    "\n",
    "Step 6: Data Cleaning/Wrangling\n",
    "\n",
    "Step 7: EDA Exploratory Data Analysis\n",
    "\n",
    "Step 8: Statistics Summary\n",
    "\n",
    "Step 9: EDA Univariate Analysis\n",
    "\n",
    "Step 10: Data Transformation\n",
    "\n",
    "Step 12: EDA Bivariate Analysis\n",
    "\n",
    "Step 13: EDA Multivariate Analysis\n",
    "\n",
    "Step 14: Impute Missing values\n",
    "\n",
    "Conclusion"
   ]
  },
  {
   "cell_type": "markdown",
   "id": "ea22dfe9",
   "metadata": {},
   "source": [
    "## What is Data Pre-processing and Feature Engineering?"
   ]
  },
  {
   "cell_type": "markdown",
   "id": "07bc9c5a",
   "metadata": {},
   "source": [
    "In our data-driven processes, we prioritize refining our raw data through the crucial stages of EDA (Exploratory Data Analysis). Both data pre-processing and feature engineering play pivotal roles in this endeavor. EDA involves a comprehensive range of activities, including data integration, analysis, cleaning, transformation, and dimension reduction.\n",
    "\n",
    "\n",
    "Data pre-processing involves cleaning and preparing raw data to facilitate feature engineering. Meanwhile, feature engineering entails employing various techniques to manipulate the data. This may include adding or removing relevant features, handling missing data, encoding variables, and dealing with categorical variables, among other tasks.\n",
    "\n",
    "\n",
    "Undoubtedly, feature engineering is a critical task that significantly influences the outcome of a model. It involves crafting new features based on existing data while pre-processing primarily focuses on cleaning and organizing the data."
   ]
  },
  {
   "cell_type": "markdown",
   "id": "2ab0a840",
   "metadata": {},
   "source": [
    "### Step 1: Import Python Libraries"
   ]
  },
  {
   "cell_type": "markdown",
   "id": "9b0c55fe",
   "metadata": {},
   "source": [
    "The first step involved in ML using python is understanding and playing around with our data using libraries. Here is the link to the dataset.\n",
    "\n",
    "Import all libraries which are required for our analysis, such as Data Loading, Statistical analysis, Visualizations, Data Transformations, Merge and Joins, etc.\n",
    "\n",
    "Pandas and Numpy have been used for Data Manipulation and numerical Calculations\n",
    "\n",
    "Matplotlib and Seaborn have been used for Data visualizations. "
   ]
  },
  {
   "cell_type": "code",
   "execution_count": 1,
   "id": "722469c0",
   "metadata": {},
   "outputs": [],
   "source": [
    "import pandas as pd\n",
    "import numpy as np\n",
    "import matplotlib.pyplot as plt\n",
    "import seaborn as sns\n",
    "#to ignore warnings\n",
    "import warnings\n",
    "warnings.filterwarnings('ignore')"
   ]
  },
  {
   "cell_type": "markdown",
   "id": "1180b439",
   "metadata": {},
   "source": [
    "### Step 2: Reading Dataset"
   ]
  },
  {
   "cell_type": "markdown",
   "id": "1a2f2687",
   "metadata": {},
   "source": [
    "The Pandas library offers a wide range of possibilities for loading data into the pandas DataFrame from files like JSON, .csv, .xlsx, .sql, .pickle, .html, .txt, images etc.\n",
    "\n",
    "Most of the data are available in a tabular format of CSV files. It is trendy and easy to access. Using the read_csv() function, data can be converted to a pandas DataFrame.\n",
    "\n",
    "In this article, the data to predict Used car price is being used as an example. In this dataset, we are trying to analyze the used car’s price and how EDA focuses on identifying the factors influencing the car price. We have stored the data in the DataFrame data."
   ]
  },
  {
   "cell_type": "code",
   "execution_count": 2,
   "id": "24512bec",
   "metadata": {},
   "outputs": [],
   "source": [
    "# data = pd.read_csv(\"used_cars.csv\")"
   ]
  },
  {
   "cell_type": "code",
   "execution_count": null,
   "id": "4f5ffbb3",
   "metadata": {},
   "outputs": [],
   "source": []
  }
 ],
 "metadata": {
  "kernelspec": {
   "display_name": "Python 3 (ipykernel)",
   "language": "python",
   "name": "python3"
  },
  "language_info": {
   "codemirror_mode": {
    "name": "ipython",
    "version": 3
   },
   "file_extension": ".py",
   "mimetype": "text/x-python",
   "name": "python",
   "nbconvert_exporter": "python",
   "pygments_lexer": "ipython3",
   "version": "3.11.5"
  }
 },
 "nbformat": 4,
 "nbformat_minor": 5
}
